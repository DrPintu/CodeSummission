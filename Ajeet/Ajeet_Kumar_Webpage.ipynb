{
  "nbformat": 4,
  "nbformat_minor": 0,
  "metadata": {
    "colab": {
      "provenance": []
    },
    "kernelspec": {
      "name": "python3",
      "display_name": "Python 3"
    },
    "language_info": {
      "name": "python"
    }
  },
  "cells": [
    {
      "cell_type": "code",
      "execution_count": null,
      "metadata": {
        "id": "1_oLr_ah5eJ_"
      },
      "outputs": [],
      "source": [
        "import requests"
      ]
    },
    {
      "cell_type": "code",
      "source": [
        "import re"
      ],
      "metadata": {
        "id": "InQtfbbIBwN7"
      },
      "execution_count": null,
      "outputs": []
    },
    {
      "cell_type": "code",
      "source": [
        "def get_html_content(url):\n",
        "    try:\n",
        "        response = requests.get(url)\n",
        "        response.raise_for_status()  # Raises an HTTPError for bad responses\n",
        "        return response.text\n",
        "    except requests.RequestException as e:\n",
        "        print(f\"Error: {e}\")\n",
        "        return None"
      ],
      "metadata": {
        "id": "_oMhWs1w-Fu8"
      },
      "execution_count": null,
      "outputs": []
    },
    {
      "cell_type": "code",
      "source": [
        "def get_title(html_content):\n",
        "    match = re.search(r'<title>(.*?)</title>', html_content, re.DOTALL | re.IGNORECASE)\n",
        "    return match.group(1).strip() if match else None"
      ],
      "metadata": {
        "id": "zfKIkeru-Jdb"
      },
      "execution_count": null,
      "outputs": []
    },
    {
      "cell_type": "code",
      "source": [
        "def get_body(html_content):\n",
        "    paragraphs = re.findall(r'<p.*?>(.*?)</p>', html_content, re.DOTALL | re.IGNORECASE)\n",
        "    return [re.sub(r'<.*?>', '', p).strip() for p in paragraphs]"
      ],
      "metadata": {
        "id": "FJZ73uHB-MNa"
      },
      "execution_count": null,
      "outputs": []
    },
    {
      "cell_type": "code",
      "source": [
        "def get_links(html_content):\n",
        "    links = re.findall(r'href=[\"\\'](https?://[^\"\\']+)[\"\\']', html_content)\n",
        "    return links"
      ],
      "metadata": {
        "id": "M-byyq8s-O-Q"
      },
      "execution_count": null,
      "outputs": []
    },
    {
      "cell_type": "code",
      "source": [
        "def main():\n",
        "    url = input(\"Enter your URL with https://\")\n",
        "    html_content = get_html_content(url)\n",
        "\n",
        "    if html_content is not None:\n",
        "        option = input(\"What do you want to see on the website? (1: Title, 2: Body, 3: Links): \")\n",
        "\n",
        "        if option == '1':\n",
        "            title = get_title(html_content)\n",
        "            print(f\"Title: {title}\" if title else \"No title found.\")\n",
        "        elif option == '2':\n",
        "            body = get_body(html_content)\n",
        "            print(\"\\n\".join(body) if body else \"No body content found.\")\n",
        "        elif option == '3':\n",
        "            links = get_links(html_content)\n",
        "            print(\"\\n\".join(links) if links else \"No links found.\")\n",
        "        else:\n",
        "            print(\"Invalid option. Please enter 1, 2, or 3.\")\n",
        ""
      ],
      "metadata": {
        "id": "o23nck71-Vo4"
      },
      "execution_count": null,
      "outputs": []
    },
    {
      "cell_type": "code",
      "source": [
        "if __name__ == \"__main__\":\n",
        "    main()"
      ],
      "metadata": {
        "id": "kI5dU2lbkls7"
      },
      "execution_count": null,
      "outputs": []
    }
  ]
}